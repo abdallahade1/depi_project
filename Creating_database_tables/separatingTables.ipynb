{
 "cells": [
  {
   "cell_type": "code",
   "execution_count": 241,
   "id": "9a8bc625-7d69-403b-bb29-233ed397b083",
   "metadata": {},
   "outputs": [],
   "source": [
    "import pandas as pd"
   ]
  },
  {
   "cell_type": "code",
   "execution_count": 243,
   "id": "27b7b480-1cfa-43c7-addd-b19d368f6cb8",
   "metadata": {},
   "outputs": [],
   "source": [
    "df = pd.read_csv('BooksAmazonReviews.csv')"
   ]
  },
  {
   "cell_type": "code",
   "execution_count": 244,
   "id": "15b95bf2-89f6-4d9d-8f31-4d7130028f16",
   "metadata": {},
   "outputs": [
    {
     "data": {
      "text/html": [
       "<div>\n",
       "<style scoped>\n",
       "    .dataframe tbody tr th:only-of-type {\n",
       "        vertical-align: middle;\n",
       "    }\n",
       "\n",
       "    .dataframe tbody tr th {\n",
       "        vertical-align: top;\n",
       "    }\n",
       "\n",
       "    .dataframe thead th {\n",
       "        text-align: right;\n",
       "    }\n",
       "</style>\n",
       "<table border=\"1\" class=\"dataframe\">\n",
       "  <thead>\n",
       "    <tr style=\"text-align: right;\">\n",
       "      <th></th>\n",
       "      <th>Id</th>\n",
       "      <th>Title</th>\n",
       "      <th>Price</th>\n",
       "      <th>User_id</th>\n",
       "      <th>profileName</th>\n",
       "      <th>review/helpfulness</th>\n",
       "      <th>review/score</th>\n",
       "      <th>review/time</th>\n",
       "      <th>review/summary</th>\n",
       "      <th>review/text</th>\n",
       "    </tr>\n",
       "  </thead>\n",
       "  <tbody>\n",
       "    <tr>\n",
       "      <th>0</th>\n",
       "      <td>1882931173</td>\n",
       "      <td>Its Only Art If Its Well Hung!</td>\n",
       "      <td>NaN</td>\n",
       "      <td>AVCGYZL8FQQTD</td>\n",
       "      <td>Jim of Oz \"jim-of-oz\"</td>\n",
       "      <td>7/7</td>\n",
       "      <td>4.0</td>\n",
       "      <td>1970-01-01 00:00:00.940636800</td>\n",
       "      <td>Nice collection of Julie Strain images</td>\n",
       "      <td>This is only for Julie Strain fans. It's a col...</td>\n",
       "    </tr>\n",
       "    <tr>\n",
       "      <th>1</th>\n",
       "      <td>0826414346</td>\n",
       "      <td>Dr. Seuss: American Icon</td>\n",
       "      <td>NaN</td>\n",
       "      <td>A30TK6U7DNS82R</td>\n",
       "      <td>Kevin Killian</td>\n",
       "      <td>10/10</td>\n",
       "      <td>5.0</td>\n",
       "      <td>1970-01-01 00:00:01.095724800</td>\n",
       "      <td>Really Enjoyed It</td>\n",
       "      <td>I don't care much for Dr. Seuss but after read...</td>\n",
       "    </tr>\n",
       "    <tr>\n",
       "      <th>2</th>\n",
       "      <td>0826414346</td>\n",
       "      <td>Dr. Seuss: American Icon</td>\n",
       "      <td>NaN</td>\n",
       "      <td>A3UH4UZ4RSVO82</td>\n",
       "      <td>John Granger</td>\n",
       "      <td>10/11</td>\n",
       "      <td>5.0</td>\n",
       "      <td>1970-01-01 00:00:01.078790400</td>\n",
       "      <td>Essential for every personal and Public Library</td>\n",
       "      <td>If people become the books they read and if \"t...</td>\n",
       "    </tr>\n",
       "    <tr>\n",
       "      <th>3</th>\n",
       "      <td>0826414346</td>\n",
       "      <td>Dr. Seuss: American Icon</td>\n",
       "      <td>NaN</td>\n",
       "      <td>A2MVUWT453QH61</td>\n",
       "      <td>Roy E. Perry \"amateur philosopher\"</td>\n",
       "      <td>7/7</td>\n",
       "      <td>4.0</td>\n",
       "      <td>1970-01-01 00:00:01.090713600</td>\n",
       "      <td>Phlip Nel gives silly Seuss a serious treatment</td>\n",
       "      <td>Theodore Seuss Geisel (1904-1991), aka &amp;quot;D...</td>\n",
       "    </tr>\n",
       "    <tr>\n",
       "      <th>4</th>\n",
       "      <td>0826414346</td>\n",
       "      <td>Dr. Seuss: American Icon</td>\n",
       "      <td>NaN</td>\n",
       "      <td>A22X4XUPKF66MR</td>\n",
       "      <td>D. H. Richards \"ninthwavestore\"</td>\n",
       "      <td>3/3</td>\n",
       "      <td>4.0</td>\n",
       "      <td>1970-01-01 00:00:01.107993600</td>\n",
       "      <td>Good academic overview</td>\n",
       "      <td>Philip Nel - Dr. Seuss: American IconThis is b...</td>\n",
       "    </tr>\n",
       "  </tbody>\n",
       "</table>\n",
       "</div>"
      ],
      "text/plain": [
       "           Id                           Title  Price         User_id  \\\n",
       "0  1882931173  Its Only Art If Its Well Hung!    NaN   AVCGYZL8FQQTD   \n",
       "1  0826414346        Dr. Seuss: American Icon    NaN  A30TK6U7DNS82R   \n",
       "2  0826414346        Dr. Seuss: American Icon    NaN  A3UH4UZ4RSVO82   \n",
       "3  0826414346        Dr. Seuss: American Icon    NaN  A2MVUWT453QH61   \n",
       "4  0826414346        Dr. Seuss: American Icon    NaN  A22X4XUPKF66MR   \n",
       "\n",
       "                          profileName review/helpfulness  review/score  \\\n",
       "0               Jim of Oz \"jim-of-oz\"                7/7           4.0   \n",
       "1                       Kevin Killian              10/10           5.0   \n",
       "2                        John Granger              10/11           5.0   \n",
       "3  Roy E. Perry \"amateur philosopher\"                7/7           4.0   \n",
       "4     D. H. Richards \"ninthwavestore\"                3/3           4.0   \n",
       "\n",
       "                     review/time  \\\n",
       "0  1970-01-01 00:00:00.940636800   \n",
       "1  1970-01-01 00:00:01.095724800   \n",
       "2  1970-01-01 00:00:01.078790400   \n",
       "3  1970-01-01 00:00:01.090713600   \n",
       "4  1970-01-01 00:00:01.107993600   \n",
       "\n",
       "                                    review/summary  \\\n",
       "0           Nice collection of Julie Strain images   \n",
       "1                                Really Enjoyed It   \n",
       "2  Essential for every personal and Public Library   \n",
       "3  Phlip Nel gives silly Seuss a serious treatment   \n",
       "4                           Good academic overview   \n",
       "\n",
       "                                         review/text  \n",
       "0  This is only for Julie Strain fans. It's a col...  \n",
       "1  I don't care much for Dr. Seuss but after read...  \n",
       "2  If people become the books they read and if \"t...  \n",
       "3  Theodore Seuss Geisel (1904-1991), aka &quot;D...  \n",
       "4  Philip Nel - Dr. Seuss: American IconThis is b...  "
      ]
     },
     "execution_count": 244,
     "metadata": {},
     "output_type": "execute_result"
    }
   ],
   "source": [
    "df.head()"
   ]
  },
  {
   "cell_type": "code",
   "execution_count": 245,
   "id": "1a18b6ed-8dae-4db9-b0bc-ac56ba10bc5c",
   "metadata": {},
   "outputs": [
    {
     "name": "stdout",
     "output_type": "stream",
     "text": [
      "<class 'pandas.core.frame.DataFrame'>\n",
      "RangeIndex: 30000 entries, 0 to 29999\n",
      "Data columns (total 10 columns):\n",
      " #   Column              Non-Null Count  Dtype  \n",
      "---  ------              --------------  -----  \n",
      " 0   Id                  30000 non-null  object \n",
      " 1   Title               29999 non-null  object \n",
      " 2   Price               4105 non-null   float64\n",
      " 3   User_id             24079 non-null  object \n",
      " 4   profileName         24078 non-null  object \n",
      " 5   review/helpfulness  30000 non-null  object \n",
      " 6   review/score        30000 non-null  float64\n",
      " 7   review/time         30000 non-null  object \n",
      " 8   review/summary      29995 non-null  object \n",
      " 9   review/text         30000 non-null  object \n",
      "dtypes: float64(2), object(8)\n",
      "memory usage: 2.3+ MB\n"
     ]
    }
   ],
   "source": [
    "df.info()"
   ]
  },
  {
   "cell_type": "code",
   "execution_count": 249,
   "id": "a3e75f8d-01bc-4600-b649-be50653db50d",
   "metadata": {},
   "outputs": [],
   "source": [
    "df = df.dropna(subset=['User_id', 'Title'])"
   ]
  },
  {
   "cell_type": "code",
   "execution_count": 251,
   "id": "6662da19-4562-4e0c-b47a-580fcdd694d2",
   "metadata": {},
   "outputs": [
    {
     "name": "stdout",
     "output_type": "stream",
     "text": [
      "<class 'pandas.core.frame.DataFrame'>\n",
      "Index: 24078 entries, 0 to 29998\n",
      "Data columns (total 10 columns):\n",
      " #   Column              Non-Null Count  Dtype  \n",
      "---  ------              --------------  -----  \n",
      " 0   Id                  24078 non-null  object \n",
      " 1   Title               24078 non-null  object \n",
      " 2   Price               3481 non-null   float64\n",
      " 3   User_id             24078 non-null  object \n",
      " 4   profileName         24077 non-null  object \n",
      " 5   review/helpfulness  24078 non-null  object \n",
      " 6   review/score        24078 non-null  float64\n",
      " 7   review/time         24078 non-null  object \n",
      " 8   review/summary      24073 non-null  object \n",
      " 9   review/text         24078 non-null  object \n",
      "dtypes: float64(2), object(8)\n",
      "memory usage: 2.0+ MB\n"
     ]
    }
   ],
   "source": [
    "df.info()"
   ]
  },
  {
   "cell_type": "code",
   "execution_count": 253,
   "id": "31a74805-2b75-4bd9-ac8e-6251de30cb53",
   "metadata": {},
   "outputs": [
    {
     "data": {
      "text/plain": [
       "Id                     2198\n",
       "Title                  2187\n",
       "Price                   299\n",
       "User_id               20781\n",
       "profileName           19883\n",
       "review/helpfulness     1145\n",
       "review/score              5\n",
       "review/time            5211\n",
       "review/summary        20855\n",
       "review/text           23241\n",
       "dtype: int64"
      ]
     },
     "execution_count": 253,
     "metadata": {},
     "output_type": "execute_result"
    }
   ],
   "source": [
    "df.nunique()"
   ]
  },
  {
   "cell_type": "markdown",
   "id": "f89851e5-d3d2-474e-9139-6e94d9c6c7c8",
   "metadata": {},
   "source": [
    "## users table"
   ]
  },
  {
   "cell_type": "code",
   "execution_count": 113,
   "id": "f00ba3cd-60b3-4f8a-8667-ed3349926f94",
   "metadata": {},
   "outputs": [
    {
     "name": "stdout",
     "output_type": "stream",
     "text": [
      "<class 'pandas.core.frame.DataFrame'>\n",
      "Index: 24079 entries, 0 to 29998\n",
      "Data columns (total 2 columns):\n",
      " #   Column       Non-Null Count  Dtype \n",
      "---  ------       --------------  ----- \n",
      " 0   User_id      24079 non-null  object\n",
      " 1   profileName  24078 non-null  object\n",
      "dtypes: object(2)\n",
      "memory usage: 564.4+ KB\n"
     ]
    }
   ],
   "source": [
    "users= df[['User_id', 'profileName']]\n",
    "users.info()"
   ]
  },
  {
   "cell_type": "code",
   "execution_count": 115,
   "id": "e34432fd-603a-445b-bc10-35db09efe872",
   "metadata": {},
   "outputs": [
    {
     "data": {
      "text/plain": [
       "20782"
      ]
     },
     "execution_count": 115,
     "metadata": {},
     "output_type": "execute_result"
    }
   ],
   "source": [
    "users['User_id'].nunique()"
   ]
  },
  {
   "cell_type": "code",
   "execution_count": 117,
   "id": "3549c1b7-cbfe-4651-93b9-87843db51b9b",
   "metadata": {},
   "outputs": [],
   "source": [
    "users_unique = users.drop_duplicates(subset='User_id')"
   ]
  },
  {
   "cell_type": "code",
   "execution_count": 119,
   "id": "778dba31-7b11-4bb1-bc5e-1e3b3e5ca7f4",
   "metadata": {},
   "outputs": [
    {
     "name": "stdout",
     "output_type": "stream",
     "text": [
      "<class 'pandas.core.frame.DataFrame'>\n",
      "Index: 20782 entries, 0 to 29998\n",
      "Data columns (total 2 columns):\n",
      " #   Column       Non-Null Count  Dtype \n",
      "---  ------       --------------  ----- \n",
      " 0   User_id      20782 non-null  object\n",
      " 1   profileName  20781 non-null  object\n",
      "dtypes: object(2)\n",
      "memory usage: 487.1+ KB\n"
     ]
    }
   ],
   "source": [
    "users_unique.info()"
   ]
  },
  {
   "cell_type": "code",
   "execution_count": 121,
   "id": "81ea1693-34d0-4b00-ba0f-7af4ff9cd322",
   "metadata": {},
   "outputs": [
    {
     "data": {
      "text/plain": [
       "User_id        20782\n",
       "profileName    19884\n",
       "dtype: int64"
      ]
     },
     "execution_count": 121,
     "metadata": {},
     "output_type": "execute_result"
    }
   ],
   "source": [
    "users_unique.nunique()"
   ]
  },
  {
   "cell_type": "code",
   "execution_count": 123,
   "id": "2e8c7a7e-4cf2-4f94-9031-5dc154af8e6b",
   "metadata": {},
   "outputs": [],
   "source": [
    "users_unique.to_csv('users.csv', index=False)"
   ]
  },
  {
   "cell_type": "markdown",
   "id": "91d5f707-a588-423f-80c7-9cff0393bcb0",
   "metadata": {},
   "source": [
    "## books table"
   ]
  },
  {
   "cell_type": "code",
   "execution_count": 256,
   "id": "633f95f1-c67c-4088-9acf-9aa2774f755e",
   "metadata": {},
   "outputs": [],
   "source": [
    "book = df[['Id', 'Title', 'Price']]"
   ]
  },
  {
   "cell_type": "code",
   "execution_count": 258,
   "id": "1df1469a-cfec-4e4e-aa08-3b4591ae9224",
   "metadata": {},
   "outputs": [
    {
     "data": {
      "text/plain": [
       "Id       2198\n",
       "Title    2187\n",
       "Price     299\n",
       "dtype: int64"
      ]
     },
     "execution_count": 258,
     "metadata": {},
     "output_type": "execute_result"
    }
   ],
   "source": [
    "book.nunique()"
   ]
  },
  {
   "cell_type": "code",
   "execution_count": 260,
   "id": "b9782e26-1898-4d76-8249-21d92a421ebd",
   "metadata": {},
   "outputs": [
    {
     "name": "stdout",
     "output_type": "stream",
     "text": [
      "<class 'pandas.core.frame.DataFrame'>\n",
      "Index: 24078 entries, 0 to 29998\n",
      "Data columns (total 3 columns):\n",
      " #   Column  Non-Null Count  Dtype  \n",
      "---  ------  --------------  -----  \n",
      " 0   Id      24078 non-null  object \n",
      " 1   Title   24078 non-null  object \n",
      " 2   Price   3481 non-null   float64\n",
      "dtypes: float64(1), object(2)\n",
      "memory usage: 752.4+ KB\n"
     ]
    }
   ],
   "source": [
    "book.info()"
   ]
  },
  {
   "cell_type": "code",
   "execution_count": 262,
   "id": "246def46-8312-4715-8e8c-9d006de5c35b",
   "metadata": {},
   "outputs": [],
   "source": [
    "book_unique = book.drop_duplicates(subset='Id')"
   ]
  },
  {
   "cell_type": "code",
   "execution_count": 264,
   "id": "2ba96737-0b03-4637-91e2-5391465cd12d",
   "metadata": {},
   "outputs": [
    {
     "name": "stdout",
     "output_type": "stream",
     "text": [
      "<class 'pandas.core.frame.DataFrame'>\n",
      "Index: 2198 entries, 0 to 28750\n",
      "Data columns (total 3 columns):\n",
      " #   Column  Non-Null Count  Dtype  \n",
      "---  ------  --------------  -----  \n",
      " 0   Id      2198 non-null   object \n",
      " 1   Title   2198 non-null   object \n",
      " 2   Price   494 non-null    float64\n",
      "dtypes: float64(1), object(2)\n",
      "memory usage: 68.7+ KB\n"
     ]
    }
   ],
   "source": [
    "book_unique.info()"
   ]
  },
  {
   "cell_type": "code",
   "execution_count": 266,
   "id": "fb02b26b-5943-46b1-a201-6555a0203bf9",
   "metadata": {},
   "outputs": [
    {
     "name": "stderr",
     "output_type": "stream",
     "text": [
      "C:\\Users\\Lenovo\\AppData\\Local\\Temp\\ipykernel_10688\\3236455433.py:1: SettingWithCopyWarning: \n",
      "A value is trying to be set on a copy of a slice from a DataFrame\n",
      "\n",
      "See the caveats in the documentation: https://pandas.pydata.org/pandas-docs/stable/user_guide/indexing.html#returning-a-view-versus-a-copy\n",
      "  book_unique.rename(columns={'Id': 'book_id'}, inplace=True)\n"
     ]
    }
   ],
   "source": [
    "book_unique.rename(columns={'Id': 'book_id'}, inplace=True)"
   ]
  },
  {
   "cell_type": "code",
   "execution_count": 306,
   "id": "30126aae-b5f5-4444-ba11-64e2ae8b47ea",
   "metadata": {},
   "outputs": [
    {
     "name": "stdout",
     "output_type": "stream",
     "text": [
      "<class 'pandas.core.frame.DataFrame'>\n",
      "Index: 2198 entries, 0 to 28750\n",
      "Data columns (total 3 columns):\n",
      " #   Column   Non-Null Count  Dtype  \n",
      "---  ------   --------------  -----  \n",
      " 0   book_id  2198 non-null   object \n",
      " 1   Title    2198 non-null   object \n",
      " 2   Price    494 non-null    float64\n",
      "dtypes: float64(1), object(2)\n",
      "memory usage: 68.7+ KB\n"
     ]
    }
   ],
   "source": [
    "book_unique.info()"
   ]
  },
  {
   "cell_type": "code",
   "execution_count": 270,
   "id": "5819a2e3-d854-4c5d-b802-9fe92613a753",
   "metadata": {},
   "outputs": [],
   "source": [
    "book_unique.to_csv('books.csv', index=False)"
   ]
  },
  {
   "cell_type": "code",
   "execution_count": 272,
   "id": "9781695e-af3f-49e3-bd0b-471b4ae55e6c",
   "metadata": {},
   "outputs": [
    {
     "data": {
      "text/html": [
       "<div>\n",
       "<style scoped>\n",
       "    .dataframe tbody tr th:only-of-type {\n",
       "        vertical-align: middle;\n",
       "    }\n",
       "\n",
       "    .dataframe tbody tr th {\n",
       "        vertical-align: top;\n",
       "    }\n",
       "\n",
       "    .dataframe thead th {\n",
       "        text-align: right;\n",
       "    }\n",
       "</style>\n",
       "<table border=\"1\" class=\"dataframe\">\n",
       "  <thead>\n",
       "    <tr style=\"text-align: right;\">\n",
       "      <th></th>\n",
       "      <th>book_id</th>\n",
       "      <th>Title</th>\n",
       "      <th>Price</th>\n",
       "    </tr>\n",
       "  </thead>\n",
       "  <tbody>\n",
       "    <tr>\n",
       "      <th>0</th>\n",
       "      <td>1</td>\n",
       "      <td>Its Only Art If Its Well Hung!</td>\n",
       "      <td>NaN</td>\n",
       "    </tr>\n",
       "    <tr>\n",
       "      <th>1</th>\n",
       "      <td>2</td>\n",
       "      <td>Dr. Seuss: American Icon</td>\n",
       "      <td>NaN</td>\n",
       "    </tr>\n",
       "    <tr>\n",
       "      <th>10</th>\n",
       "      <td>3</td>\n",
       "      <td>Wonderful Worship in Smaller Churches</td>\n",
       "      <td>19.40</td>\n",
       "    </tr>\n",
       "    <tr>\n",
       "      <th>14</th>\n",
       "      <td>4</td>\n",
       "      <td>Whispers of the Wicked Saints</td>\n",
       "      <td>10.95</td>\n",
       "    </tr>\n",
       "    <tr>\n",
       "      <th>46</th>\n",
       "      <td>5</td>\n",
       "      <td>Nation Dance: Religion, Identity and Cultural ...</td>\n",
       "      <td>39.95</td>\n",
       "    </tr>\n",
       "    <tr>\n",
       "      <th>...</th>\n",
       "      <td>...</td>\n",
       "      <td>...</td>\n",
       "      <td>...</td>\n",
       "    </tr>\n",
       "    <tr>\n",
       "      <th>28744</th>\n",
       "      <td>2183</td>\n",
       "      <td>Probability and its engineering uses,</td>\n",
       "      <td>NaN</td>\n",
       "    </tr>\n",
       "    <tr>\n",
       "      <th>28745</th>\n",
       "      <td>2184</td>\n",
       "      <td>Speed-Reading in Business: Learn to Read Rapid...</td>\n",
       "      <td>NaN</td>\n",
       "    </tr>\n",
       "    <tr>\n",
       "      <th>28746</th>\n",
       "      <td>2185</td>\n",
       "      <td>Oz Clarke's Pocket Wine Guide 2001</td>\n",
       "      <td>NaN</td>\n",
       "    </tr>\n",
       "    <tr>\n",
       "      <th>28747</th>\n",
       "      <td>2186</td>\n",
       "      <td>The adventures of Big-Foot Wallace,: The Texas...</td>\n",
       "      <td>NaN</td>\n",
       "    </tr>\n",
       "    <tr>\n",
       "      <th>28750</th>\n",
       "      <td>2187</td>\n",
       "      <td>Of Mice and Men (Penguin Audiobooks)</td>\n",
       "      <td>NaN</td>\n",
       "    </tr>\n",
       "  </tbody>\n",
       "</table>\n",
       "<p>2187 rows × 3 columns</p>\n",
       "</div>"
      ],
      "text/plain": [
       "       book_id                                              Title  Price\n",
       "0            1                     Its Only Art If Its Well Hung!    NaN\n",
       "1            2                           Dr. Seuss: American Icon    NaN\n",
       "10           3              Wonderful Worship in Smaller Churches  19.40\n",
       "14           4                      Whispers of the Wicked Saints  10.95\n",
       "46           5  Nation Dance: Religion, Identity and Cultural ...  39.95\n",
       "...        ...                                                ...    ...\n",
       "28744     2183              Probability and its engineering uses,    NaN\n",
       "28745     2184  Speed-Reading in Business: Learn to Read Rapid...    NaN\n",
       "28746     2185                 Oz Clarke's Pocket Wine Guide 2001    NaN\n",
       "28747     2186  The adventures of Big-Foot Wallace,: The Texas...    NaN\n",
       "28750     2187               Of Mice and Men (Penguin Audiobooks)    NaN\n",
       "\n",
       "[2187 rows x 3 columns]"
      ]
     },
     "execution_count": 272,
     "metadata": {},
     "output_type": "execute_result"
    }
   ],
   "source": [
    "books_sorted"
   ]
  },
  {
   "cell_type": "markdown",
   "id": "fc4214c5-9aa5-475a-8485-af7f8e48fc22",
   "metadata": {},
   "source": [
    "## reviews table"
   ]
  },
  {
   "cell_type": "code",
   "execution_count": 275,
   "id": "540487b2-c3a1-4644-8942-85fa662bfd06",
   "metadata": {},
   "outputs": [],
   "source": [
    "df = df.merge(books_sorted[['book_id', 'Title']], on='Title')"
   ]
  },
  {
   "cell_type": "code",
   "execution_count": 277,
   "id": "1d182383-9bf6-464a-917f-31cc04c433dc",
   "metadata": {},
   "outputs": [
    {
     "data": {
      "text/html": [
       "<div>\n",
       "<style scoped>\n",
       "    .dataframe tbody tr th:only-of-type {\n",
       "        vertical-align: middle;\n",
       "    }\n",
       "\n",
       "    .dataframe tbody tr th {\n",
       "        vertical-align: top;\n",
       "    }\n",
       "\n",
       "    .dataframe thead th {\n",
       "        text-align: right;\n",
       "    }\n",
       "</style>\n",
       "<table border=\"1\" class=\"dataframe\">\n",
       "  <thead>\n",
       "    <tr style=\"text-align: right;\">\n",
       "      <th></th>\n",
       "      <th>Id</th>\n",
       "      <th>Title</th>\n",
       "      <th>Price</th>\n",
       "      <th>User_id</th>\n",
       "      <th>profileName</th>\n",
       "      <th>review/helpfulness</th>\n",
       "      <th>review/score</th>\n",
       "      <th>review/time</th>\n",
       "      <th>review/summary</th>\n",
       "      <th>review/text</th>\n",
       "      <th>book_id</th>\n",
       "    </tr>\n",
       "  </thead>\n",
       "  <tbody>\n",
       "    <tr>\n",
       "      <th>0</th>\n",
       "      <td>1882931173</td>\n",
       "      <td>Its Only Art If Its Well Hung!</td>\n",
       "      <td>NaN</td>\n",
       "      <td>AVCGYZL8FQQTD</td>\n",
       "      <td>Jim of Oz \"jim-of-oz\"</td>\n",
       "      <td>7/7</td>\n",
       "      <td>4.0</td>\n",
       "      <td>1970-01-01 00:00:00.940636800</td>\n",
       "      <td>Nice collection of Julie Strain images</td>\n",
       "      <td>This is only for Julie Strain fans. It's a col...</td>\n",
       "      <td>1</td>\n",
       "    </tr>\n",
       "    <tr>\n",
       "      <th>1</th>\n",
       "      <td>0826414346</td>\n",
       "      <td>Dr. Seuss: American Icon</td>\n",
       "      <td>NaN</td>\n",
       "      <td>A30TK6U7DNS82R</td>\n",
       "      <td>Kevin Killian</td>\n",
       "      <td>10/10</td>\n",
       "      <td>5.0</td>\n",
       "      <td>1970-01-01 00:00:01.095724800</td>\n",
       "      <td>Really Enjoyed It</td>\n",
       "      <td>I don't care much for Dr. Seuss but after read...</td>\n",
       "      <td>2</td>\n",
       "    </tr>\n",
       "    <tr>\n",
       "      <th>2</th>\n",
       "      <td>0826414346</td>\n",
       "      <td>Dr. Seuss: American Icon</td>\n",
       "      <td>NaN</td>\n",
       "      <td>A3UH4UZ4RSVO82</td>\n",
       "      <td>John Granger</td>\n",
       "      <td>10/11</td>\n",
       "      <td>5.0</td>\n",
       "      <td>1970-01-01 00:00:01.078790400</td>\n",
       "      <td>Essential for every personal and Public Library</td>\n",
       "      <td>If people become the books they read and if \"t...</td>\n",
       "      <td>2</td>\n",
       "    </tr>\n",
       "    <tr>\n",
       "      <th>3</th>\n",
       "      <td>0826414346</td>\n",
       "      <td>Dr. Seuss: American Icon</td>\n",
       "      <td>NaN</td>\n",
       "      <td>A2MVUWT453QH61</td>\n",
       "      <td>Roy E. Perry \"amateur philosopher\"</td>\n",
       "      <td>7/7</td>\n",
       "      <td>4.0</td>\n",
       "      <td>1970-01-01 00:00:01.090713600</td>\n",
       "      <td>Phlip Nel gives silly Seuss a serious treatment</td>\n",
       "      <td>Theodore Seuss Geisel (1904-1991), aka &amp;quot;D...</td>\n",
       "      <td>2</td>\n",
       "    </tr>\n",
       "    <tr>\n",
       "      <th>4</th>\n",
       "      <td>0826414346</td>\n",
       "      <td>Dr. Seuss: American Icon</td>\n",
       "      <td>NaN</td>\n",
       "      <td>A22X4XUPKF66MR</td>\n",
       "      <td>D. H. Richards \"ninthwavestore\"</td>\n",
       "      <td>3/3</td>\n",
       "      <td>4.0</td>\n",
       "      <td>1970-01-01 00:00:01.107993600</td>\n",
       "      <td>Good academic overview</td>\n",
       "      <td>Philip Nel - Dr. Seuss: American IconThis is b...</td>\n",
       "      <td>2</td>\n",
       "    </tr>\n",
       "    <tr>\n",
       "      <th>...</th>\n",
       "      <td>...</td>\n",
       "      <td>...</td>\n",
       "      <td>...</td>\n",
       "      <td>...</td>\n",
       "      <td>...</td>\n",
       "      <td>...</td>\n",
       "      <td>...</td>\n",
       "      <td>...</td>\n",
       "      <td>...</td>\n",
       "      <td>...</td>\n",
       "      <td>...</td>\n",
       "    </tr>\n",
       "    <tr>\n",
       "      <th>24073</th>\n",
       "      <td>0140860096</td>\n",
       "      <td>Of Mice and Men (Penguin Audiobooks)</td>\n",
       "      <td>NaN</td>\n",
       "      <td>A3O9LMY2DTV2B2</td>\n",
       "      <td>T. W. Fuller</td>\n",
       "      <td>2/3</td>\n",
       "      <td>4.0</td>\n",
       "      <td>1970-01-01 00:00:01.000598400</td>\n",
       "      <td>Of Mice and Men</td>\n",
       "      <td>Of Mice and Men captures a part of American Hi...</td>\n",
       "      <td>2187</td>\n",
       "    </tr>\n",
       "    <tr>\n",
       "      <th>24074</th>\n",
       "      <td>0140860096</td>\n",
       "      <td>Of Mice and Men (Penguin Audiobooks)</td>\n",
       "      <td>NaN</td>\n",
       "      <td>A1W5SKBN4VYOZH</td>\n",
       "      <td>colin_pegg@hotmail.com</td>\n",
       "      <td>2/3</td>\n",
       "      <td>5.0</td>\n",
       "      <td>1970-01-01 00:00:00.966816000</td>\n",
       "      <td>American Classic</td>\n",
       "      <td>John Steinbeck had always been associated with...</td>\n",
       "      <td>2187</td>\n",
       "    </tr>\n",
       "    <tr>\n",
       "      <th>24075</th>\n",
       "      <td>0140860096</td>\n",
       "      <td>Of Mice and Men (Penguin Audiobooks)</td>\n",
       "      <td>NaN</td>\n",
       "      <td>A2CYWFT3GEB7OV</td>\n",
       "      <td>\"chonita_15\"</td>\n",
       "      <td>2/3</td>\n",
       "      <td>5.0</td>\n",
       "      <td>1970-01-01 00:00:00.966384000</td>\n",
       "      <td>The Perfect book, &amp;quot;Of Mice and Men&amp;quot;</td>\n",
       "      <td>Mr. Steinbeck has created a masterpiece. Short...</td>\n",
       "      <td>2187</td>\n",
       "    </tr>\n",
       "    <tr>\n",
       "      <th>24076</th>\n",
       "      <td>0140860096</td>\n",
       "      <td>Of Mice and Men (Penguin Audiobooks)</td>\n",
       "      <td>NaN</td>\n",
       "      <td>A2KFDT3ENO7N21</td>\n",
       "      <td>kae</td>\n",
       "      <td>2/3</td>\n",
       "      <td>3.0</td>\n",
       "      <td>1970-01-01 00:00:00.965174400</td>\n",
       "      <td>Recomendation</td>\n",
       "      <td>Of Mice and men is a book that I first raed fo...</td>\n",
       "      <td>2187</td>\n",
       "    </tr>\n",
       "    <tr>\n",
       "      <th>24077</th>\n",
       "      <td>0140860096</td>\n",
       "      <td>Of Mice and Men (Penguin Audiobooks)</td>\n",
       "      <td>NaN</td>\n",
       "      <td>A11NMT4P8EPWKW</td>\n",
       "      <td>\"mambodog\"</td>\n",
       "      <td>2/3</td>\n",
       "      <td>5.0</td>\n",
       "      <td>1970-01-01 00:00:00.944092800</td>\n",
       "      <td>A Bantamweight word user. A Heavyweight storyt...</td>\n",
       "      <td>This is old school writing, writing from befor...</td>\n",
       "      <td>2187</td>\n",
       "    </tr>\n",
       "  </tbody>\n",
       "</table>\n",
       "<p>24078 rows × 11 columns</p>\n",
       "</div>"
      ],
      "text/plain": [
       "               Id                                 Title  Price  \\\n",
       "0      1882931173        Its Only Art If Its Well Hung!    NaN   \n",
       "1      0826414346              Dr. Seuss: American Icon    NaN   \n",
       "2      0826414346              Dr. Seuss: American Icon    NaN   \n",
       "3      0826414346              Dr. Seuss: American Icon    NaN   \n",
       "4      0826414346              Dr. Seuss: American Icon    NaN   \n",
       "...           ...                                   ...    ...   \n",
       "24073  0140860096  Of Mice and Men (Penguin Audiobooks)    NaN   \n",
       "24074  0140860096  Of Mice and Men (Penguin Audiobooks)    NaN   \n",
       "24075  0140860096  Of Mice and Men (Penguin Audiobooks)    NaN   \n",
       "24076  0140860096  Of Mice and Men (Penguin Audiobooks)    NaN   \n",
       "24077  0140860096  Of Mice and Men (Penguin Audiobooks)    NaN   \n",
       "\n",
       "              User_id                         profileName review/helpfulness  \\\n",
       "0       AVCGYZL8FQQTD               Jim of Oz \"jim-of-oz\"                7/7   \n",
       "1      A30TK6U7DNS82R                       Kevin Killian              10/10   \n",
       "2      A3UH4UZ4RSVO82                        John Granger              10/11   \n",
       "3      A2MVUWT453QH61  Roy E. Perry \"amateur philosopher\"                7/7   \n",
       "4      A22X4XUPKF66MR     D. H. Richards \"ninthwavestore\"                3/3   \n",
       "...               ...                                 ...                ...   \n",
       "24073  A3O9LMY2DTV2B2                        T. W. Fuller                2/3   \n",
       "24074  A1W5SKBN4VYOZH              colin_pegg@hotmail.com                2/3   \n",
       "24075  A2CYWFT3GEB7OV                        \"chonita_15\"                2/3   \n",
       "24076  A2KFDT3ENO7N21                                 kae                2/3   \n",
       "24077  A11NMT4P8EPWKW                          \"mambodog\"                2/3   \n",
       "\n",
       "       review/score                    review/time  \\\n",
       "0               4.0  1970-01-01 00:00:00.940636800   \n",
       "1               5.0  1970-01-01 00:00:01.095724800   \n",
       "2               5.0  1970-01-01 00:00:01.078790400   \n",
       "3               4.0  1970-01-01 00:00:01.090713600   \n",
       "4               4.0  1970-01-01 00:00:01.107993600   \n",
       "...             ...                            ...   \n",
       "24073           4.0  1970-01-01 00:00:01.000598400   \n",
       "24074           5.0  1970-01-01 00:00:00.966816000   \n",
       "24075           5.0  1970-01-01 00:00:00.966384000   \n",
       "24076           3.0  1970-01-01 00:00:00.965174400   \n",
       "24077           5.0  1970-01-01 00:00:00.944092800   \n",
       "\n",
       "                                          review/summary  \\\n",
       "0                 Nice collection of Julie Strain images   \n",
       "1                                      Really Enjoyed It   \n",
       "2        Essential for every personal and Public Library   \n",
       "3        Phlip Nel gives silly Seuss a serious treatment   \n",
       "4                                 Good academic overview   \n",
       "...                                                  ...   \n",
       "24073                                    Of Mice and Men   \n",
       "24074                                   American Classic   \n",
       "24075      The Perfect book, &quot;Of Mice and Men&quot;   \n",
       "24076                                      Recomendation   \n",
       "24077  A Bantamweight word user. A Heavyweight storyt...   \n",
       "\n",
       "                                             review/text  book_id  \n",
       "0      This is only for Julie Strain fans. It's a col...        1  \n",
       "1      I don't care much for Dr. Seuss but after read...        2  \n",
       "2      If people become the books they read and if \"t...        2  \n",
       "3      Theodore Seuss Geisel (1904-1991), aka &quot;D...        2  \n",
       "4      Philip Nel - Dr. Seuss: American IconThis is b...        2  \n",
       "...                                                  ...      ...  \n",
       "24073  Of Mice and Men captures a part of American Hi...     2187  \n",
       "24074  John Steinbeck had always been associated with...     2187  \n",
       "24075  Mr. Steinbeck has created a masterpiece. Short...     2187  \n",
       "24076  Of Mice and men is a book that I first raed fo...     2187  \n",
       "24077  This is old school writing, writing from befor...     2187  \n",
       "\n",
       "[24078 rows x 11 columns]"
      ]
     },
     "execution_count": 277,
     "metadata": {},
     "output_type": "execute_result"
    }
   ],
   "source": [
    "df"
   ]
  },
  {
   "cell_type": "code",
   "execution_count": 279,
   "id": "c90e43cc-7ca5-421d-99b0-1b9045bc2370",
   "metadata": {},
   "outputs": [
    {
     "data": {
      "text/plain": [
       "2187"
      ]
     },
     "execution_count": 279,
     "metadata": {},
     "output_type": "execute_result"
    }
   ],
   "source": [
    "df['book_id'].max()"
   ]
  },
  {
   "cell_type": "code",
   "execution_count": 281,
   "id": "f4d7b271-a2b9-4397-95c6-e34e24df5a10",
   "metadata": {},
   "outputs": [
    {
     "data": {
      "text/plain": [
       "2187"
      ]
     },
     "execution_count": 281,
     "metadata": {},
     "output_type": "execute_result"
    }
   ],
   "source": [
    "books_sorted['book_id'].max()"
   ]
  },
  {
   "cell_type": "code",
   "execution_count": 283,
   "id": "25742bef-e5d5-4ca5-8f0a-deed4d1d94f9",
   "metadata": {},
   "outputs": [],
   "source": [
    "reviews =df[['review/helpfulness', 'review/score', 'review/text', 'review/time', 'review/summary', 'User_id', 'book_id']]"
   ]
  },
  {
   "cell_type": "code",
   "execution_count": 285,
   "id": "f09874ae-42a6-4233-8403-539a7dc0fc29",
   "metadata": {},
   "outputs": [
    {
     "name": "stderr",
     "output_type": "stream",
     "text": [
      "C:\\Users\\Lenovo\\AppData\\Local\\Temp\\ipykernel_10688\\1827085815.py:1: SettingWithCopyWarning: \n",
      "A value is trying to be set on a copy of a slice from a DataFrame.\n",
      "Try using .loc[row_indexer,col_indexer] = value instead\n",
      "\n",
      "See the caveats in the documentation: https://pandas.pydata.org/pandas-docs/stable/user_guide/indexing.html#returning-a-view-versus-a-copy\n",
      "  reviews['review_id'] = range(1, len(reviews)+1)\n"
     ]
    }
   ],
   "source": [
    "reviews['review_id'] = range(1, len(reviews)+1)"
   ]
  },
  {
   "cell_type": "code",
   "execution_count": 287,
   "id": "201dd868-6999-429a-ac3e-496b1488abb0",
   "metadata": {},
   "outputs": [
    {
     "data": {
      "text/html": [
       "<div>\n",
       "<style scoped>\n",
       "    .dataframe tbody tr th:only-of-type {\n",
       "        vertical-align: middle;\n",
       "    }\n",
       "\n",
       "    .dataframe tbody tr th {\n",
       "        vertical-align: top;\n",
       "    }\n",
       "\n",
       "    .dataframe thead th {\n",
       "        text-align: right;\n",
       "    }\n",
       "</style>\n",
       "<table border=\"1\" class=\"dataframe\">\n",
       "  <thead>\n",
       "    <tr style=\"text-align: right;\">\n",
       "      <th></th>\n",
       "      <th>review/helpfulness</th>\n",
       "      <th>review/score</th>\n",
       "      <th>review/text</th>\n",
       "      <th>review/time</th>\n",
       "      <th>review/summary</th>\n",
       "      <th>User_id</th>\n",
       "      <th>book_id</th>\n",
       "      <th>review_id</th>\n",
       "    </tr>\n",
       "  </thead>\n",
       "  <tbody>\n",
       "    <tr>\n",
       "      <th>0</th>\n",
       "      <td>7/7</td>\n",
       "      <td>4.0</td>\n",
       "      <td>This is only for Julie Strain fans. It's a col...</td>\n",
       "      <td>1970-01-01 00:00:00.940636800</td>\n",
       "      <td>Nice collection of Julie Strain images</td>\n",
       "      <td>AVCGYZL8FQQTD</td>\n",
       "      <td>1</td>\n",
       "      <td>1</td>\n",
       "    </tr>\n",
       "    <tr>\n",
       "      <th>1</th>\n",
       "      <td>10/10</td>\n",
       "      <td>5.0</td>\n",
       "      <td>I don't care much for Dr. Seuss but after read...</td>\n",
       "      <td>1970-01-01 00:00:01.095724800</td>\n",
       "      <td>Really Enjoyed It</td>\n",
       "      <td>A30TK6U7DNS82R</td>\n",
       "      <td>2</td>\n",
       "      <td>2</td>\n",
       "    </tr>\n",
       "    <tr>\n",
       "      <th>2</th>\n",
       "      <td>10/11</td>\n",
       "      <td>5.0</td>\n",
       "      <td>If people become the books they read and if \"t...</td>\n",
       "      <td>1970-01-01 00:00:01.078790400</td>\n",
       "      <td>Essential for every personal and Public Library</td>\n",
       "      <td>A3UH4UZ4RSVO82</td>\n",
       "      <td>2</td>\n",
       "      <td>3</td>\n",
       "    </tr>\n",
       "    <tr>\n",
       "      <th>3</th>\n",
       "      <td>7/7</td>\n",
       "      <td>4.0</td>\n",
       "      <td>Theodore Seuss Geisel (1904-1991), aka &amp;quot;D...</td>\n",
       "      <td>1970-01-01 00:00:01.090713600</td>\n",
       "      <td>Phlip Nel gives silly Seuss a serious treatment</td>\n",
       "      <td>A2MVUWT453QH61</td>\n",
       "      <td>2</td>\n",
       "      <td>4</td>\n",
       "    </tr>\n",
       "    <tr>\n",
       "      <th>4</th>\n",
       "      <td>3/3</td>\n",
       "      <td>4.0</td>\n",
       "      <td>Philip Nel - Dr. Seuss: American IconThis is b...</td>\n",
       "      <td>1970-01-01 00:00:01.107993600</td>\n",
       "      <td>Good academic overview</td>\n",
       "      <td>A22X4XUPKF66MR</td>\n",
       "      <td>2</td>\n",
       "      <td>5</td>\n",
       "    </tr>\n",
       "    <tr>\n",
       "      <th>...</th>\n",
       "      <td>...</td>\n",
       "      <td>...</td>\n",
       "      <td>...</td>\n",
       "      <td>...</td>\n",
       "      <td>...</td>\n",
       "      <td>...</td>\n",
       "      <td>...</td>\n",
       "      <td>...</td>\n",
       "    </tr>\n",
       "    <tr>\n",
       "      <th>24073</th>\n",
       "      <td>2/3</td>\n",
       "      <td>4.0</td>\n",
       "      <td>Of Mice and Men captures a part of American Hi...</td>\n",
       "      <td>1970-01-01 00:00:01.000598400</td>\n",
       "      <td>Of Mice and Men</td>\n",
       "      <td>A3O9LMY2DTV2B2</td>\n",
       "      <td>2187</td>\n",
       "      <td>24074</td>\n",
       "    </tr>\n",
       "    <tr>\n",
       "      <th>24074</th>\n",
       "      <td>2/3</td>\n",
       "      <td>5.0</td>\n",
       "      <td>John Steinbeck had always been associated with...</td>\n",
       "      <td>1970-01-01 00:00:00.966816000</td>\n",
       "      <td>American Classic</td>\n",
       "      <td>A1W5SKBN4VYOZH</td>\n",
       "      <td>2187</td>\n",
       "      <td>24075</td>\n",
       "    </tr>\n",
       "    <tr>\n",
       "      <th>24075</th>\n",
       "      <td>2/3</td>\n",
       "      <td>5.0</td>\n",
       "      <td>Mr. Steinbeck has created a masterpiece. Short...</td>\n",
       "      <td>1970-01-01 00:00:00.966384000</td>\n",
       "      <td>The Perfect book, &amp;quot;Of Mice and Men&amp;quot;</td>\n",
       "      <td>A2CYWFT3GEB7OV</td>\n",
       "      <td>2187</td>\n",
       "      <td>24076</td>\n",
       "    </tr>\n",
       "    <tr>\n",
       "      <th>24076</th>\n",
       "      <td>2/3</td>\n",
       "      <td>3.0</td>\n",
       "      <td>Of Mice and men is a book that I first raed fo...</td>\n",
       "      <td>1970-01-01 00:00:00.965174400</td>\n",
       "      <td>Recomendation</td>\n",
       "      <td>A2KFDT3ENO7N21</td>\n",
       "      <td>2187</td>\n",
       "      <td>24077</td>\n",
       "    </tr>\n",
       "    <tr>\n",
       "      <th>24077</th>\n",
       "      <td>2/3</td>\n",
       "      <td>5.0</td>\n",
       "      <td>This is old school writing, writing from befor...</td>\n",
       "      <td>1970-01-01 00:00:00.944092800</td>\n",
       "      <td>A Bantamweight word user. A Heavyweight storyt...</td>\n",
       "      <td>A11NMT4P8EPWKW</td>\n",
       "      <td>2187</td>\n",
       "      <td>24078</td>\n",
       "    </tr>\n",
       "  </tbody>\n",
       "</table>\n",
       "<p>24078 rows × 8 columns</p>\n",
       "</div>"
      ],
      "text/plain": [
       "      review/helpfulness  review/score  \\\n",
       "0                    7/7           4.0   \n",
       "1                  10/10           5.0   \n",
       "2                  10/11           5.0   \n",
       "3                    7/7           4.0   \n",
       "4                    3/3           4.0   \n",
       "...                  ...           ...   \n",
       "24073                2/3           4.0   \n",
       "24074                2/3           5.0   \n",
       "24075                2/3           5.0   \n",
       "24076                2/3           3.0   \n",
       "24077                2/3           5.0   \n",
       "\n",
       "                                             review/text  \\\n",
       "0      This is only for Julie Strain fans. It's a col...   \n",
       "1      I don't care much for Dr. Seuss but after read...   \n",
       "2      If people become the books they read and if \"t...   \n",
       "3      Theodore Seuss Geisel (1904-1991), aka &quot;D...   \n",
       "4      Philip Nel - Dr. Seuss: American IconThis is b...   \n",
       "...                                                  ...   \n",
       "24073  Of Mice and Men captures a part of American Hi...   \n",
       "24074  John Steinbeck had always been associated with...   \n",
       "24075  Mr. Steinbeck has created a masterpiece. Short...   \n",
       "24076  Of Mice and men is a book that I first raed fo...   \n",
       "24077  This is old school writing, writing from befor...   \n",
       "\n",
       "                         review/time  \\\n",
       "0      1970-01-01 00:00:00.940636800   \n",
       "1      1970-01-01 00:00:01.095724800   \n",
       "2      1970-01-01 00:00:01.078790400   \n",
       "3      1970-01-01 00:00:01.090713600   \n",
       "4      1970-01-01 00:00:01.107993600   \n",
       "...                              ...   \n",
       "24073  1970-01-01 00:00:01.000598400   \n",
       "24074  1970-01-01 00:00:00.966816000   \n",
       "24075  1970-01-01 00:00:00.966384000   \n",
       "24076  1970-01-01 00:00:00.965174400   \n",
       "24077  1970-01-01 00:00:00.944092800   \n",
       "\n",
       "                                          review/summary         User_id  \\\n",
       "0                 Nice collection of Julie Strain images   AVCGYZL8FQQTD   \n",
       "1                                      Really Enjoyed It  A30TK6U7DNS82R   \n",
       "2        Essential for every personal and Public Library  A3UH4UZ4RSVO82   \n",
       "3        Phlip Nel gives silly Seuss a serious treatment  A2MVUWT453QH61   \n",
       "4                                 Good academic overview  A22X4XUPKF66MR   \n",
       "...                                                  ...             ...   \n",
       "24073                                    Of Mice and Men  A3O9LMY2DTV2B2   \n",
       "24074                                   American Classic  A1W5SKBN4VYOZH   \n",
       "24075      The Perfect book, &quot;Of Mice and Men&quot;  A2CYWFT3GEB7OV   \n",
       "24076                                      Recomendation  A2KFDT3ENO7N21   \n",
       "24077  A Bantamweight word user. A Heavyweight storyt...  A11NMT4P8EPWKW   \n",
       "\n",
       "       book_id  review_id  \n",
       "0            1          1  \n",
       "1            2          2  \n",
       "2            2          3  \n",
       "3            2          4  \n",
       "4            2          5  \n",
       "...        ...        ...  \n",
       "24073     2187      24074  \n",
       "24074     2187      24075  \n",
       "24075     2187      24076  \n",
       "24076     2187      24077  \n",
       "24077     2187      24078  \n",
       "\n",
       "[24078 rows x 8 columns]"
      ]
     },
     "execution_count": 287,
     "metadata": {},
     "output_type": "execute_result"
    }
   ],
   "source": [
    "reviews"
   ]
  },
  {
   "cell_type": "code",
   "execution_count": 289,
   "id": "cccbd265-0af8-4371-8a9d-da53a5697077",
   "metadata": {},
   "outputs": [],
   "source": [
    "cols = ['review_id'] +  [col for col in reviews.columns if col != 'review_id']"
   ]
  },
  {
   "cell_type": "code",
   "execution_count": 291,
   "id": "91b5cd7e-f50f-4dd3-8b50-0f5fd5f9026b",
   "metadata": {},
   "outputs": [
    {
     "data": {
      "text/plain": [
       "['review_id',\n",
       " 'review/helpfulness',\n",
       " 'review/score',\n",
       " 'review/text',\n",
       " 'review/time',\n",
       " 'review/summary',\n",
       " 'User_id',\n",
       " 'book_id']"
      ]
     },
     "execution_count": 291,
     "metadata": {},
     "output_type": "execute_result"
    }
   ],
   "source": [
    "cols"
   ]
  },
  {
   "cell_type": "code",
   "execution_count": 293,
   "id": "411ff7d2-f233-46e2-839b-d87fe8311d5b",
   "metadata": {},
   "outputs": [],
   "source": [
    "reviews_sorted = reviews[cols]"
   ]
  },
  {
   "cell_type": "code",
   "execution_count": 295,
   "id": "443ea586-0ed7-464d-858a-d730e0997531",
   "metadata": {},
   "outputs": [
    {
     "data": {
      "text/html": [
       "<div>\n",
       "<style scoped>\n",
       "    .dataframe tbody tr th:only-of-type {\n",
       "        vertical-align: middle;\n",
       "    }\n",
       "\n",
       "    .dataframe tbody tr th {\n",
       "        vertical-align: top;\n",
       "    }\n",
       "\n",
       "    .dataframe thead th {\n",
       "        text-align: right;\n",
       "    }\n",
       "</style>\n",
       "<table border=\"1\" class=\"dataframe\">\n",
       "  <thead>\n",
       "    <tr style=\"text-align: right;\">\n",
       "      <th></th>\n",
       "      <th>review_id</th>\n",
       "      <th>review/helpfulness</th>\n",
       "      <th>review/score</th>\n",
       "      <th>review/text</th>\n",
       "      <th>review/time</th>\n",
       "      <th>review/summary</th>\n",
       "      <th>User_id</th>\n",
       "      <th>book_id</th>\n",
       "    </tr>\n",
       "  </thead>\n",
       "  <tbody>\n",
       "    <tr>\n",
       "      <th>0</th>\n",
       "      <td>1</td>\n",
       "      <td>7/7</td>\n",
       "      <td>4.0</td>\n",
       "      <td>This is only for Julie Strain fans. It's a col...</td>\n",
       "      <td>1970-01-01 00:00:00.940636800</td>\n",
       "      <td>Nice collection of Julie Strain images</td>\n",
       "      <td>AVCGYZL8FQQTD</td>\n",
       "      <td>1</td>\n",
       "    </tr>\n",
       "    <tr>\n",
       "      <th>1</th>\n",
       "      <td>2</td>\n",
       "      <td>10/10</td>\n",
       "      <td>5.0</td>\n",
       "      <td>I don't care much for Dr. Seuss but after read...</td>\n",
       "      <td>1970-01-01 00:00:01.095724800</td>\n",
       "      <td>Really Enjoyed It</td>\n",
       "      <td>A30TK6U7DNS82R</td>\n",
       "      <td>2</td>\n",
       "    </tr>\n",
       "    <tr>\n",
       "      <th>2</th>\n",
       "      <td>3</td>\n",
       "      <td>10/11</td>\n",
       "      <td>5.0</td>\n",
       "      <td>If people become the books they read and if \"t...</td>\n",
       "      <td>1970-01-01 00:00:01.078790400</td>\n",
       "      <td>Essential for every personal and Public Library</td>\n",
       "      <td>A3UH4UZ4RSVO82</td>\n",
       "      <td>2</td>\n",
       "    </tr>\n",
       "    <tr>\n",
       "      <th>3</th>\n",
       "      <td>4</td>\n",
       "      <td>7/7</td>\n",
       "      <td>4.0</td>\n",
       "      <td>Theodore Seuss Geisel (1904-1991), aka &amp;quot;D...</td>\n",
       "      <td>1970-01-01 00:00:01.090713600</td>\n",
       "      <td>Phlip Nel gives silly Seuss a serious treatment</td>\n",
       "      <td>A2MVUWT453QH61</td>\n",
       "      <td>2</td>\n",
       "    </tr>\n",
       "    <tr>\n",
       "      <th>4</th>\n",
       "      <td>5</td>\n",
       "      <td>3/3</td>\n",
       "      <td>4.0</td>\n",
       "      <td>Philip Nel - Dr. Seuss: American IconThis is b...</td>\n",
       "      <td>1970-01-01 00:00:01.107993600</td>\n",
       "      <td>Good academic overview</td>\n",
       "      <td>A22X4XUPKF66MR</td>\n",
       "      <td>2</td>\n",
       "    </tr>\n",
       "  </tbody>\n",
       "</table>\n",
       "</div>"
      ],
      "text/plain": [
       "   review_id review/helpfulness  review/score  \\\n",
       "0          1                7/7           4.0   \n",
       "1          2              10/10           5.0   \n",
       "2          3              10/11           5.0   \n",
       "3          4                7/7           4.0   \n",
       "4          5                3/3           4.0   \n",
       "\n",
       "                                         review/text  \\\n",
       "0  This is only for Julie Strain fans. It's a col...   \n",
       "1  I don't care much for Dr. Seuss but after read...   \n",
       "2  If people become the books they read and if \"t...   \n",
       "3  Theodore Seuss Geisel (1904-1991), aka &quot;D...   \n",
       "4  Philip Nel - Dr. Seuss: American IconThis is b...   \n",
       "\n",
       "                     review/time  \\\n",
       "0  1970-01-01 00:00:00.940636800   \n",
       "1  1970-01-01 00:00:01.095724800   \n",
       "2  1970-01-01 00:00:01.078790400   \n",
       "3  1970-01-01 00:00:01.090713600   \n",
       "4  1970-01-01 00:00:01.107993600   \n",
       "\n",
       "                                    review/summary         User_id  book_id  \n",
       "0           Nice collection of Julie Strain images   AVCGYZL8FQQTD        1  \n",
       "1                                Really Enjoyed It  A30TK6U7DNS82R        2  \n",
       "2  Essential for every personal and Public Library  A3UH4UZ4RSVO82        2  \n",
       "3  Phlip Nel gives silly Seuss a serious treatment  A2MVUWT453QH61        2  \n",
       "4                           Good academic overview  A22X4XUPKF66MR        2  "
      ]
     },
     "execution_count": 295,
     "metadata": {},
     "output_type": "execute_result"
    }
   ],
   "source": [
    "reviews_sorted.head()"
   ]
  },
  {
   "cell_type": "code",
   "execution_count": 302,
   "id": "7d8418b8-498c-4755-9b46-7ae2386d5e10",
   "metadata": {},
   "outputs": [
    {
     "name": "stdout",
     "output_type": "stream",
     "text": [
      "<class 'pandas.core.frame.DataFrame'>\n",
      "RangeIndex: 24078 entries, 0 to 24077\n",
      "Data columns (total 8 columns):\n",
      " #   Column              Non-Null Count  Dtype  \n",
      "---  ------              --------------  -----  \n",
      " 0   review_id           24078 non-null  int64  \n",
      " 1   review/helpfulness  24078 non-null  object \n",
      " 2   review/score        24078 non-null  float64\n",
      " 3   review/text         24078 non-null  object \n",
      " 4   review/time         24078 non-null  object \n",
      " 5   review/summary      24073 non-null  object \n",
      " 6   User_id             24078 non-null  object \n",
      " 7   book_id             24078 non-null  int64  \n",
      "dtypes: float64(1), int64(2), object(5)\n",
      "memory usage: 1.5+ MB\n"
     ]
    }
   ],
   "source": [
    "books_unique.info()"
   ]
  },
  {
   "cell_type": "code",
   "execution_count": null,
   "id": "61a84597",
   "metadata": {},
   "outputs": [],
   "source": []
  },
  {
   "cell_type": "code",
   "execution_count": 352,
   "id": "b6933653-45db-4748-8f71-b572ab70317a",
   "metadata": {},
   "outputs": [],
   "source": [
    "reviews_sorted.to_csv('reviews.csv', index=False)"
   ]
  },
  {
   "cell_type": "code",
   "execution_count": 304,
   "id": "23cbb60e-cb34-408a-b335-4a334cb816e0",
   "metadata": {},
   "outputs": [
    {
     "data": {
      "text/plain": [
       "review_id             24078\n",
       "review/helpfulness     1145\n",
       "review/score              5\n",
       "review/text           23241\n",
       "review/time            5211\n",
       "review/summary        20855\n",
       "User_id               20781\n",
       "book_id                2187\n",
       "dtype: int64"
      ]
     },
     "execution_count": 304,
     "metadata": {},
     "output_type": "execute_result"
    }
   ],
   "source": [
    "reviews_sorted.nunique()"
   ]
  },
  {
   "cell_type": "code",
   "execution_count": 316,
   "id": "010c1910-551a-4dab-bd88-3e3febe9a8d4",
   "metadata": {},
   "outputs": [
    {
     "data": {
      "text/plain": [
       "False"
      ]
     },
     "execution_count": 316,
     "metadata": {},
     "output_type": "execute_result"
    }
   ],
   "source": [
    "book_unique['book_id'].isnull().any()"
   ]
  },
  {
   "cell_type": "code",
   "execution_count": 342,
   "id": "543bf5ad-add6-465e-9d53-3e4ade2ae398",
   "metadata": {},
   "outputs": [
    {
     "data": {
      "text/plain": [
       "False"
      ]
     },
     "execution_count": 342,
     "metadata": {},
     "output_type": "execute_result"
    }
   ],
   "source": [
    "reviews_sorted['book_id'].isin(book_unique['book_id']).all()"
   ]
  },
  {
   "cell_type": "code",
   "execution_count": 350,
   "id": "11849e42-bceb-45fc-b250-03cf3db6a38e",
   "metadata": {},
   "outputs": [
    {
     "data": {
      "text/plain": [
       "0           1\n",
       "1           2\n",
       "2           2\n",
       "3           2\n",
       "4           2\n",
       "         ... \n",
       "24073    2187\n",
       "24074    2187\n",
       "24075    2187\n",
       "24076    2187\n",
       "24077    2187\n",
       "Name: book_id, Length: 24078, dtype: object"
      ]
     },
     "execution_count": 350,
     "metadata": {},
     "output_type": "execute_result"
    }
   ],
   "source": [
    "reviews_sorted.loc[~reviews_sorted['book_id'].isin(book_unique['book_id']), 'book_id']"
   ]
  },
  {
   "cell_type": "code",
   "execution_count": 348,
   "id": "a7a6fbcd-6096-4357-b102-6644884181ea",
   "metadata": {},
   "outputs": [
    {
     "data": {
      "text/plain": [
       "24078"
      ]
     },
     "execution_count": 348,
     "metadata": {},
     "output_type": "execute_result"
    }
   ],
   "source": [
    "len(reviews_sorted[~reviews_sorted['book_id'].isin(book_unique['book_id'])])"
   ]
  },
  {
   "cell_type": "code",
   "execution_count": 346,
   "id": "9a9a8e11-9031-4cc4-adb1-6e4bcf2d956a",
   "metadata": {},
   "outputs": [
    {
     "name": "stdout",
     "output_type": "stream",
     "text": [
      "<class 'pandas.core.frame.DataFrame'>\n",
      "RangeIndex: 24078 entries, 0 to 24077\n",
      "Data columns (total 8 columns):\n",
      " #   Column              Non-Null Count  Dtype  \n",
      "---  ------              --------------  -----  \n",
      " 0   review_id           24078 non-null  int64  \n",
      " 1   review/helpfulness  24078 non-null  object \n",
      " 2   review/score        24078 non-null  float64\n",
      " 3   review/text         24078 non-null  object \n",
      " 4   review/time         24078 non-null  object \n",
      " 5   review/summary      24073 non-null  object \n",
      " 6   User_id             24078 non-null  object \n",
      " 7   book_id             24078 non-null  object \n",
      "dtypes: float64(1), int64(1), object(6)\n",
      "memory usage: 1.5+ MB\n"
     ]
    }
   ],
   "source": [
    "reviews_sorted.info()"
   ]
  },
  {
   "cell_type": "code",
   "execution_count": 344,
   "id": "a87358da-161b-469d-bbcb-893964c93c2b",
   "metadata": {},
   "outputs": [
    {
     "name": "stdout",
     "output_type": "stream",
     "text": [
      "<class 'pandas.core.frame.DataFrame'>\n",
      "Index: 2198 entries, 0 to 28750\n",
      "Data columns (total 3 columns):\n",
      " #   Column   Non-Null Count  Dtype  \n",
      "---  ------   --------------  -----  \n",
      " 0   book_id  2198 non-null   object \n",
      " 1   Title    2198 non-null   object \n",
      " 2   Price    494 non-null    float64\n",
      "dtypes: float64(1), object(2)\n",
      "memory usage: 68.7+ KB\n"
     ]
    }
   ],
   "source": [
    "book_unique.info()"
   ]
  },
  {
   "cell_type": "code",
   "execution_count": 340,
   "id": "e88e0a0e-0319-4e39-ac24-96f5cf2d43c9",
   "metadata": {},
   "outputs": [],
   "source": [
    "reviews_sorted['book_id'] = reviews_sorted['book_id'].astype('object')"
   ]
  },
  {
   "cell_type": "code",
   "execution_count": null,
   "id": "ac6c1d2a-2ced-4c03-9ec2-a71fd395eef8",
   "metadata": {},
   "outputs": [],
   "source": []
  }
 ],
 "metadata": {
  "kernelspec": {
   "display_name": "Python 3 (ipykernel)",
   "language": "python",
   "name": "python3"
  },
  "language_info": {
   "codemirror_mode": {
    "name": "ipython",
    "version": 3
   },
   "file_extension": ".py",
   "mimetype": "text/x-python",
   "name": "python",
   "nbconvert_exporter": "python",
   "pygments_lexer": "ipython3",
   "version": "3.12.4"
  }
 },
 "nbformat": 4,
 "nbformat_minor": 5
}
